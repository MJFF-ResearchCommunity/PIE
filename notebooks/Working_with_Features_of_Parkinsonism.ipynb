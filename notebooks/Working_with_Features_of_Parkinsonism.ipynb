{
 "cells": [
  {
   "cell_type": "markdown",
   "id": "807939de-e30a-4ee8-b952-b6420671cefd",
   "metadata": {},
   "source": [
    "# Exploring Features of Parkinsonism\n",
    "\n",
    "This notebook shows how to clean and visualize the Features of Parkinsonism data."
   ]
  },
  {
   "cell_type": "code",
   "execution_count": 1,
   "id": "1792a2a7-7f69-48a2-a58a-57c762732fd7",
   "metadata": {},
   "outputs": [],
   "source": [
    "import pandas as pd\n",
    "import seaborn as sns\n",
    "import matplotlib.pyplot as plt\n",
    "from pie.data_loader import DataLoader\n",
    "from pie.data_preprocessor import DataPreprocessor"
   ]
  },
  {
   "cell_type": "code",
   "execution_count": 2,
   "id": "4a522038-885d-439b-8a09-8a76f3972590",
   "metadata": {
    "scrolled": true
   },
   "outputs": [
    {
     "name": "stdout",
     "output_type": "stream",
     "text": [
      "2025-04-11 11:25:27 data_loader.py [INFO] Loading subject_characteristics data...\n",
      "2025-04-11 11:25:27 data_loader.py [WARNING] Directory not found: ../PPMI/_Subject_Characteristics\n",
      "2025-04-11 11:25:27 data_loader.py [INFO] Loading medical_history data...\n",
      "2025-04-11 11:25:27 med_hist_loader.py [WARNING] No CSV file found for prefix: Adverse_Event\n",
      "2025-04-11 11:25:27 med_hist_loader.py [WARNING] No CSV file found for prefix: AV-133_Prodromal\n",
      "2025-04-11 11:25:27 med_hist_loader.py [WARNING] No CSV file found for prefix: C05-05_PET_Imaging_Substudy\n",
      "2025-04-11 11:25:27 med_hist_loader.py [WARNING] No CSV file found for prefix: Clinical_Diagnosis\n",
      "2025-04-11 11:25:27 med_hist_loader.py [WARNING] No CSV file found for prefix: Clinical_Global_Impression\n",
      "2025-04-11 11:25:27 med_hist_loader.py [WARNING] No CSV file found for prefix: Determination_of_Freezing_and_Falls\n",
      "2025-04-11 11:25:27 med_hist_loader.py [WARNING] No CSV file found for prefix: DPA-714_PET_Imaging_Substudy_Adverse_Event\n",
      "2025-04-11 11:25:27 med_hist_loader.py [WARNING] No CSV file found for prefix: Early_Imaging\n",
      "2025-04-11 11:25:27 med_hist_loader.py [WARNING] No CSV file found for prefix: Features_of_REM_Behavior_Disorder\n",
      "2025-04-11 11:25:27 med_hist_loader.py [WARNING] No CSV file found for prefix: Gait_Substudy_Adverse_Event\n",
      "2025-04-11 11:25:27 med_hist_loader.py [WARNING] No CSV file found for prefix: Initiation_of_Dopaminergic_Therapy\n",
      "2025-04-11 11:25:27 med_hist_loader.py [WARNING] No CSV file found for prefix: LEDD_Concomitant_Medication\n",
      "2025-04-11 11:25:27 med_hist_loader.py [WARNING] No CSV file found for prefix: Medical_Conditions\n",
      "2025-04-11 11:25:27 med_hist_loader.py [WARNING] No CSV file found for prefix: Neurological_Exam\n",
      "2025-04-11 11:25:27 med_hist_loader.py [WARNING] No CSV file found for prefix: Other_Clinical_Features\n",
      "2025-04-11 11:25:27 med_hist_loader.py [WARNING] No CSV file found for prefix: Participant_Global_Impression\n",
      "2025-04-11 11:25:27 med_hist_loader.py [WARNING] No CSV file found for prefix: PD_Diagnosis_History\n",
      "2025-04-11 11:25:27 med_hist_loader.py [WARNING] No CSV file found for prefix: Pregnancy_Test\n",
      "2025-04-11 11:25:27 med_hist_loader.py [WARNING] No CSV file found for prefix: Primary_Clincial_Diagnosis\n",
      "2025-04-11 11:25:27 med_hist_loader.py [WARNING] No CSV file found for prefix: Procedure_for_PD_Log\n",
      "2025-04-11 11:25:27 med_hist_loader.py [WARNING] No CSV file found for prefix: Report_of_Pregnancy\n",
      "2025-04-11 11:25:27 med_hist_loader.py [WARNING] No CSV file found for prefix: SVA2_PET_Imaging_Substudy\n",
      "2025-04-11 11:25:27 med_hist_loader.py [WARNING] No CSV file found for prefix: Tau_Substudy\n"
     ]
    },
    {
     "name": "stderr",
     "output_type": "stream",
     "text": [
      "/Users/vic/Projects/MJFF/PIE/pie/med_hist_loader.py:142: DtypeWarning: Columns (6,7,13,18,19) have mixed types. Specify dtype option on import or set low_memory=False.\n",
      "  df_temp = pd.read_csv(csv_file)\n"
     ]
    },
    {
     "name": "stdout",
     "output_type": "stream",
     "text": [
      "2025-04-11 11:25:27 data_loader.py [INFO] Loaded 4 medical_history tables\n",
      "2025-04-11 11:25:27 data_loader.py [INFO] Loading motor_assessments data...\n",
      "2025-04-11 11:25:27 data_loader.py [WARNING] Directory not found: ../PPMI/Motor___MDS-UPDRS\n",
      "2025-04-11 11:25:27 data_loader.py [INFO] Loading non_motor_assessments data...\n",
      "2025-04-11 11:25:27 data_loader.py [WARNING] Directory not found: ../PPMI/Non-motor_Assessments\n",
      "2025-04-11 11:25:27 data_loader.py [INFO] Loading clinical data...\n",
      "2025-04-11 11:25:27 med_hist_loader.py [WARNING] No CSV file found for prefix: Adverse_Event\n",
      "2025-04-11 11:25:27 med_hist_loader.py [WARNING] No CSV file found for prefix: AV-133_Prodromal\n",
      "2025-04-11 11:25:27 med_hist_loader.py [WARNING] No CSV file found for prefix: C05-05_PET_Imaging_Substudy\n",
      "2025-04-11 11:25:27 med_hist_loader.py [WARNING] No CSV file found for prefix: Clinical_Diagnosis\n",
      "2025-04-11 11:25:27 med_hist_loader.py [WARNING] No CSV file found for prefix: Clinical_Global_Impression\n",
      "2025-04-11 11:25:27 med_hist_loader.py [WARNING] No CSV file found for prefix: Determination_of_Freezing_and_Falls\n",
      "2025-04-11 11:25:27 med_hist_loader.py [WARNING] No CSV file found for prefix: DPA-714_PET_Imaging_Substudy_Adverse_Event\n",
      "2025-04-11 11:25:27 med_hist_loader.py [WARNING] No CSV file found for prefix: Early_Imaging\n",
      "2025-04-11 11:25:27 med_hist_loader.py [WARNING] No CSV file found for prefix: Features_of_REM_Behavior_Disorder\n",
      "2025-04-11 11:25:27 med_hist_loader.py [WARNING] No CSV file found for prefix: Gait_Substudy_Adverse_Event\n",
      "2025-04-11 11:25:27 med_hist_loader.py [WARNING] No CSV file found for prefix: Initiation_of_Dopaminergic_Therapy\n",
      "2025-04-11 11:25:27 med_hist_loader.py [WARNING] No CSV file found for prefix: LEDD_Concomitant_Medication\n",
      "2025-04-11 11:25:27 med_hist_loader.py [WARNING] No CSV file found for prefix: Medical_Conditions\n",
      "2025-04-11 11:25:27 med_hist_loader.py [WARNING] No CSV file found for prefix: Neurological_Exam\n",
      "2025-04-11 11:25:27 med_hist_loader.py [WARNING] No CSV file found for prefix: Other_Clinical_Features\n",
      "2025-04-11 11:25:27 med_hist_loader.py [WARNING] No CSV file found for prefix: Participant_Global_Impression\n",
      "2025-04-11 11:25:27 med_hist_loader.py [WARNING] No CSV file found for prefix: PD_Diagnosis_History\n",
      "2025-04-11 11:25:27 med_hist_loader.py [WARNING] No CSV file found for prefix: Pregnancy_Test\n",
      "2025-04-11 11:25:27 med_hist_loader.py [WARNING] No CSV file found for prefix: Primary_Clincial_Diagnosis\n",
      "2025-04-11 11:25:27 med_hist_loader.py [WARNING] No CSV file found for prefix: Procedure_for_PD_Log\n",
      "2025-04-11 11:25:27 med_hist_loader.py [WARNING] No CSV file found for prefix: Report_of_Pregnancy\n",
      "2025-04-11 11:25:27 med_hist_loader.py [WARNING] No CSV file found for prefix: SVA2_PET_Imaging_Substudy\n",
      "2025-04-11 11:25:27 med_hist_loader.py [WARNING] No CSV file found for prefix: Tau_Substudy\n"
     ]
    },
    {
     "name": "stderr",
     "output_type": "stream",
     "text": [
      "/Users/vic/Projects/MJFF/PIE/pie/med_hist_loader.py:142: DtypeWarning: Columns (6,7,13,18,19) have mixed types. Specify dtype option on import or set low_memory=False.\n",
      "  df_temp = pd.read_csv(csv_file)\n"
     ]
    },
    {
     "name": "stdout",
     "output_type": "stream",
     "text": [
      "2025-04-11 11:25:28 data_loader.py [INFO] Loaded clinical data\n",
      "2025-04-11 11:25:28 data_loader.py [INFO] Loading biologics data...\n",
      "2025-04-11 11:25:28 data_loader.py [INFO] Loaded biologics data\n",
      "2025-04-11 11:25:28 data_loader.py [INFO] Loading imaging data...\n",
      "2025-04-11 11:25:28 data_loader.py [INFO] Loaded imaging data\n",
      "2025-04-11 11:25:28 data_loader.py [INFO] Loading wearables data...\n",
      "2025-04-11 11:25:28 data_loader.py [INFO] Loaded wearables data\n",
      "2025-04-11 11:25:28 data_loader.py [INFO] Loading exams data...\n",
      "2025-04-11 11:25:28 data_loader.py [INFO] Loaded exams data\n",
      "(21787, 12)\n"
     ]
    },
    {
     "data": {
      "text/html": [
       "<div>\n",
       "<style scoped>\n",
       "    .dataframe tbody tr th:only-of-type {\n",
       "        vertical-align: middle;\n",
       "    }\n",
       "\n",
       "    .dataframe tbody tr th {\n",
       "        vertical-align: top;\n",
       "    }\n",
       "\n",
       "    .dataframe thead th {\n",
       "        text-align: right;\n",
       "    }\n",
       "</style>\n",
       "<table border=\"1\" class=\"dataframe\">\n",
       "  <thead>\n",
       "    <tr style=\"text-align: right;\">\n",
       "      <th></th>\n",
       "      <th>REC_ID</th>\n",
       "      <th>PATNO</th>\n",
       "      <th>EVENT_ID</th>\n",
       "      <th>PAG_NAME</th>\n",
       "      <th>INFODT</th>\n",
       "      <th>FEATBRADY</th>\n",
       "      <th>FEATPOSINS</th>\n",
       "      <th>FEATRIGID</th>\n",
       "      <th>FEATTREMOR</th>\n",
       "      <th>PSGLVL</th>\n",
       "      <th>ORIG_ENTRY</th>\n",
       "      <th>LAST_UPDATE</th>\n",
       "    </tr>\n",
       "  </thead>\n",
       "  <tbody>\n",
       "    <tr>\n",
       "      <th>0</th>\n",
       "      <td>720683801</td>\n",
       "      <td>3000</td>\n",
       "      <td>V10</td>\n",
       "      <td>DIAGFEAT</td>\n",
       "      <td>03/2015</td>\n",
       "      <td>0.0</td>\n",
       "      <td>0.0</td>\n",
       "      <td>0.0</td>\n",
       "      <td>0.0</td>\n",
       "      <td>NaN</td>\n",
       "      <td>12/2018</td>\n",
       "      <td>2020-06-25 16:02:23.0</td>\n",
       "    </tr>\n",
       "    <tr>\n",
       "      <th>1</th>\n",
       "      <td>565128201</td>\n",
       "      <td>3000</td>\n",
       "      <td>V12</td>\n",
       "      <td>DIAGFEAT</td>\n",
       "      <td>04/2016</td>\n",
       "      <td>0.0</td>\n",
       "      <td>0.0</td>\n",
       "      <td>0.0</td>\n",
       "      <td>0.0</td>\n",
       "      <td>NaN</td>\n",
       "      <td>04/2016</td>\n",
       "      <td>2020-06-25 16:02:23.0</td>\n",
       "    </tr>\n",
       "    <tr>\n",
       "      <th>2</th>\n",
       "      <td>736287401</td>\n",
       "      <td>3000</td>\n",
       "      <td>V15</td>\n",
       "      <td>DIAGFEAT</td>\n",
       "      <td>03/2019</td>\n",
       "      <td>0.0</td>\n",
       "      <td>0.0</td>\n",
       "      <td>0.0</td>\n",
       "      <td>0.0</td>\n",
       "      <td>NaN</td>\n",
       "      <td>04/2019</td>\n",
       "      <td>2020-06-25 16:02:24.0</td>\n",
       "    </tr>\n",
       "    <tr>\n",
       "      <th>3</th>\n",
       "      <td>IA32673</td>\n",
       "      <td>3000</td>\n",
       "      <td>V17</td>\n",
       "      <td>FEATPD</td>\n",
       "      <td>05/2021</td>\n",
       "      <td>0.0</td>\n",
       "      <td>0.0</td>\n",
       "      <td>0.0</td>\n",
       "      <td>0.0</td>\n",
       "      <td>5.0</td>\n",
       "      <td>06/2021</td>\n",
       "      <td>2021-06-01 00:00:00.0</td>\n",
       "    </tr>\n",
       "    <tr>\n",
       "      <th>4</th>\n",
       "      <td>IA32676</td>\n",
       "      <td>3001</td>\n",
       "      <td>R18</td>\n",
       "      <td>FEATPD</td>\n",
       "      <td>09/2022</td>\n",
       "      <td>1.0</td>\n",
       "      <td>2.0</td>\n",
       "      <td>2.0</td>\n",
       "      <td>1.0</td>\n",
       "      <td>1.0</td>\n",
       "      <td>09/2022</td>\n",
       "      <td>2022-09-30 00:00:00.0</td>\n",
       "    </tr>\n",
       "  </tbody>\n",
       "</table>\n",
       "</div>"
      ],
      "text/plain": [
       "      REC_ID  PATNO EVENT_ID  PAG_NAME   INFODT  FEATBRADY  FEATPOSINS  \\\n",
       "0  720683801   3000      V10  DIAGFEAT  03/2015        0.0         0.0   \n",
       "1  565128201   3000      V12  DIAGFEAT  04/2016        0.0         0.0   \n",
       "2  736287401   3000      V15  DIAGFEAT  03/2019        0.0         0.0   \n",
       "3    IA32673   3000      V17    FEATPD  05/2021        0.0         0.0   \n",
       "4    IA32676   3001      R18    FEATPD  09/2022        1.0         2.0   \n",
       "\n",
       "   FEATRIGID  FEATTREMOR  PSGLVL ORIG_ENTRY            LAST_UPDATE  \n",
       "0        0.0         0.0     NaN    12/2018  2020-06-25 16:02:23.0  \n",
       "1        0.0         0.0     NaN    04/2016  2020-06-25 16:02:23.0  \n",
       "2        0.0         0.0     NaN    04/2019  2020-06-25 16:02:24.0  \n",
       "3        0.0         0.0     5.0    06/2021  2021-06-01 00:00:00.0  \n",
       "4        2.0         1.0     1.0    09/2022  2022-09-30 00:00:00.0  "
      ]
     },
     "execution_count": 2,
     "metadata": {},
     "output_type": "execute_result"
    }
   ],
   "source": [
    "# Load data, and check we have Features of Parkinsonism\n",
    "data = DataLoader.load(\"../PPMI\")\n",
    "fp_df = data[DataLoader.MEDICAL_HISTORY][\"Features_of_Parkinsonism\"]\n",
    "print(fp_df.shape)\n",
    "fp_df.head()"
   ]
  },
  {
   "cell_type": "code",
   "execution_count": 3,
   "id": "e9092277-af5d-4d99-9ed8-a83146f7c714",
   "metadata": {},
   "outputs": [
    {
     "name": "stdout",
     "output_type": "stream",
     "text": [
      "['REC_ID', 'PATNO', 'EVENT_ID', 'PAG_NAME', 'INFODT', 'FEATBRADY', 'FEATPOSINS', 'FEATRIGID', 'FEATTREMOR', 'PSGLVL', 'ORIG_ENTRY', 'LAST_UPDATE']\n"
     ]
    },
    {
     "data": {
      "text/plain": [
       "FEATBRADY\n",
       "1.0    11008\n",
       "0.0    10013\n",
       "0.5      760\n",
       "Name: count, dtype: int64"
      ]
     },
     "execution_count": 3,
     "metadata": {},
     "output_type": "execute_result"
    }
   ],
   "source": [
    "# Clean the data, by mapping Uncertain values in each feature to 0.5\n",
    "# (half way between No (0) and Yes (1))\n",
    "clean_df = DataPreprocessor.clean_features_of_parkinsonism(fp_df)\n",
    "print(clean_df.columns.tolist())\n",
    "clean_df[\"FEATBRADY\"].value_counts()"
   ]
  },
  {
   "cell_type": "code",
   "execution_count": 4,
   "id": "b88feff3-205b-448b-a331-bf4f7e11e661",
   "metadata": {},
   "outputs": [
    {
     "data": {
      "text/plain": [
       "Feature count\n",
       "0.0    7797\n",
       "3.0    4246\n",
       "4.0    3817\n",
       "2.0    1827\n",
       "0.5    1769\n",
       "1.0    1251\n",
       "2.5     371\n",
       "1.5     361\n",
       "3.5     348\n",
       "Name: count, dtype: int64"
      ]
     },
     "execution_count": 4,
     "metadata": {},
     "output_type": "execute_result"
    }
   ],
   "source": [
    "# Create a count of how many of the features are present\n",
    "clean_df[\"Feature count\"] = clean_df[\n",
    "    [\"FEATBRADY\", \"FEATPOSINS\", \"FEATRIGID\", \"FEATTREMOR\"]].sum(axis=1)\n",
    "clean_df[\"Feature count\"].value_counts()"
   ]
  },
  {
   "cell_type": "code",
   "execution_count": 5,
   "id": "0d947cd7-0056-4a2a-aed0-a8b5ec3df418",
   "metadata": {},
   "outputs": [
    {
     "data": {
      "text/plain": [
       "<Axes: xlabel='Feature count', ylabel='count'>"
      ]
     },
     "execution_count": 5,
     "metadata": {},
     "output_type": "execute_result"
    },
    {
     "data": {
      "image/png": "[encoded data removed]",
      "text/plain": [
       "<Figure size 640x480 with 1 Axes>"
      ]
     },
     "metadata": {},
     "output_type": "display_data"
    }
   ],
   "source": [
    "# Plot counts of patients with features at BL and at 2 years (V06)\n",
    "timepoints = [\"BL\", \"V06\"]\n",
    "sns.countplot(data=clean_df[clean_df[\"EVENT_ID\"].isin(timepoints)], x=\"Feature count\",\n",
    "              hue=\"EVENT_ID\", hue_order=timepoints)"
   ]
  },
  {
   "cell_type": "markdown",
   "id": "a4f1cbef-f66f-428f-badd-5fcc3bb17745",
   "metadata": {},
   "source": [
    "We can see that at BL, the overwhelming majority of participants have no features of Parkinsonism (almost 1400 participants). By V06 the majority still have zero features, but the count of those with 3 or 4 features has increased as a proportion of the dataset. This may reflect the difference between PD patients and Healthy Controls."
   ]
  }
 ],
 "metadata": {
  "kernelspec": {
   "display_name": "Python 3 (ipykernel)",
   "language": "python",
   "name": "python3"
  },
  "language_info": {
   "codemirror_mode": {
    "name": "ipython",
    "version": 3
   },
   "file_extension": ".py",
   "mimetype": "text/x-python",
   "name": "python",
   "nbconvert_exporter": "python",
   "pygments_lexer": "ipython3",
   "version": "3.10.3"
  }
 },
 "nbformat": 4,
 "nbformat_minor": 5
}
