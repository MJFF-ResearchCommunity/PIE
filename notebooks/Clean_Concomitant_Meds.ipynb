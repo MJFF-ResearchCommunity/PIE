{
 "cells": [
  {
   "cell_type": "markdown",
   "id": "3a4daffc-cd3e-47ca-817b-d0403c8be248",
   "metadata": {},
   "source": [
    "## How to clean Concomitant Meds\n",
    "\n",
    "This notebook demonstrates how to load and clean the concomitant medication table from the PPMI dataset."
   ]
  },
  {
   "cell_type": "code",
   "execution_count": null,
   "id": "d04a36e1-d53d-4c27-870b-54a65eb0b83d",
   "metadata": {},
   "outputs": [],
   "source": [
    "import pandas as pd\n",
    "from pie.data_loader import DataLoader\n",
    "from pie.data_preprocessor import DataPreprocessor"
   ]
  },
  {
   "cell_type": "code",
   "execution_count": null,
   "id": "18e7c49e-94a8-46a4-ab95-c343c9f36025",
   "metadata": {},
   "outputs": [],
   "source": [
    "# Load data, and check we have the Concomitant Meds\n",
    "data = DataLoader.load(\"../PPMI\", \"PPMI\")\n",
    "cmeds_df = data[\"clinical\"][\"med_hist\"][\"Concomitant_Medication\"]\n",
    "print(cmeds_df.shape)\n",
    "cmeds_df.head()"
   ]
  },
  {
   "cell_type": "code",
   "execution_count": null,
   "id": "88f4b5a3-dd9f-484c-8753-f2e86a1dd648",
   "metadata": {},
   "outputs": [],
   "source": [
    "# Before cleaning, check the dtypes of the dates\n",
    "print(cmeds_df[\"STARTDT\"].dtype)\n",
    "print(cmeds_df[\"STOPDT\"].dtype)"
   ]
  },
  {
   "cell_type": "code",
   "execution_count": null,
   "id": "9e1bc43f-1158-497d-baa5-67d044888140",
   "metadata": {},
   "outputs": [],
   "source": [
    "# Before cleaning, count how many indication codes we have (45267 rows but fewer codes)\n",
    "print(f\"There are {cmeds_df['CMINDC'].isnull().sum()} nulls\")\n",
    "cmeds_df[\"CMINDC\"].value_counts()"
   ]
  },
  {
   "cell_type": "code",
   "execution_count": null,
   "id": "ba4afe57-4cd9-4619-a854-74d800aa5bb5",
   "metadata": {},
   "outputs": [],
   "source": [
    "# Clean up the dates, and map the indication codes and reason text\n",
    "clean_df = DataPreprocessor.clean_concomitant_meds(cmeds_df)"
   ]
  },
  {
   "cell_type": "code",
   "execution_count": null,
   "id": "6aeda82a-9c89-43bb-9023-35a1c9b64d11",
   "metadata": {},
   "outputs": [],
   "source": [
    "# After cleaning, dates are now datetimes\n",
    "print(clean_df[\"STARTDT\"].dtype)\n",
    "print(clean_df[\"STOPDT\"].dtype)"
   ]
  },
  {
   "cell_type": "code",
   "execution_count": null,
   "id": "e84db5af-870b-433d-86b3-7d957f607544",
   "metadata": {},
   "outputs": [],
   "source": [
    "# After cleaning, all indication codes have been mapped, and converted to int\n",
    "print(f\"There are {clean_df['CMINDC'].isnull().sum()} nulls\")\n",
    "clean_df[\"CMINDC\"].value_counts()"
   ]
  },
  {
   "cell_type": "code",
   "execution_count": null,
   "id": "12080729-1ccc-4054-b266-30b03e6c3ab0",
   "metadata": {},
   "outputs": [],
   "source": []
  }
 ],
 "metadata": {
  "kernelspec": {
   "display_name": "Python 3 (ipykernel)",
   "language": "python",
   "name": "python3"
  },
  "language_info": {
   "codemirror_mode": {
    "name": "ipython",
    "version": 3
   },
   "file_extension": ".py",
   "mimetype": "text/x-python",
   "name": "python",
   "nbconvert_exporter": "python",
   "pygments_lexer": "ipython3",
   "version": "3.10.3"
  }
 },
 "nbformat": 4,
 "nbformat_minor": 5
}
